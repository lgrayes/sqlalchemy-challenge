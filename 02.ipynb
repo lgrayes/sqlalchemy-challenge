{
 "cells": [
  {
   "cell_type": "code",
   "execution_count": 1,
   "metadata": {},
   "outputs": [],
   "source": [
    "%matplotlib inline\n",
    "from matplotlib import style\n",
    "style.use('fivethirtyeight')\n",
    "import matplotlib.pyplot as plt"
   ]
  },
  {
   "cell_type": "code",
   "execution_count": 2,
   "metadata": {},
   "outputs": [],
   "source": [
    "import numpy as np\n",
    "import pandas as pd"
   ]
  },
  {
   "cell_type": "code",
   "execution_count": 3,
   "metadata": {},
   "outputs": [],
   "source": [
    "import datetime as dt"
   ]
  },
  {
   "cell_type": "markdown",
   "metadata": {},
   "source": [
    "# Reflect Tables into SQLAlchemy ORM"
   ]
  },
  {
   "cell_type": "code",
   "execution_count": 4,
   "metadata": {},
   "outputs": [],
   "source": [
    "# Python SQL toolkit and Object Relational Mapper\n",
    "import sqlalchemy\n",
    "from sqlalchemy.ext.automap import automap_base\n",
    "from sqlalchemy.orm import Session\n",
    "from sqlalchemy import create_engine, func, inspect"
   ]
  },
  {
   "cell_type": "code",
   "execution_count": 5,
   "metadata": {},
   "outputs": [],
   "source": [
    "engine = create_engine(\"sqlite:///Resources/hawaii.sqlite\")"
   ]
  },
  {
   "cell_type": "code",
   "execution_count": 6,
   "metadata": {},
   "outputs": [],
   "source": [
    "inspector = inspect(engine)"
   ]
  },
  {
   "cell_type": "code",
   "execution_count": 7,
   "metadata": {},
   "outputs": [
    {
     "data": {
      "text/plain": [
       "['measurement', 'station']"
      ]
     },
     "execution_count": 7,
     "metadata": {},
     "output_type": "execute_result"
    }
   ],
   "source": [
    "inspector.get_table_names()"
   ]
  },
  {
   "cell_type": "code",
   "execution_count": 8,
   "metadata": {},
   "outputs": [],
   "source": [
    "# reflect an existing database into a new model\n",
    "\n",
    "# reflect the tables"
   ]
  },
  {
   "cell_type": "code",
   "execution_count": 20,
   "metadata": {},
   "outputs": [
    {
     "name": "stdout",
     "output_type": "stream",
     "text": [
      "id INTEGER\n",
      "station TEXT\n",
      "date TEXT\n",
      "prcp FLOAT\n",
      "tobs FLOAT\n"
     ]
    }
   ],
   "source": [
    "mea_columns = inspector.get_columns('measurement')\n",
    "for column in mea_columns:\n",
    "    print(column[\"name\"], column[\"type\"])"
   ]
  },
  {
   "cell_type": "code",
   "execution_count": 33,
   "metadata": {},
   "outputs": [
    {
     "data": {
      "text/plain": [
       "[(1, 'USC00519397', '2010-01-01', 0.08, 65.0),\n",
       " (2, 'USC00519397', '2010-01-02', 0.0, 63.0),\n",
       " (3, 'USC00519397', '2010-01-03', 0.0, 74.0),\n",
       " (4, 'USC00519397', '2010-01-04', 0.0, 76.0),\n",
       " (5, 'USC00519397', '2010-01-06', None, 73.0),\n",
       " (6, 'USC00519397', '2010-01-07', 0.06, 70.0),\n",
       " (7, 'USC00519397', '2010-01-08', 0.0, 64.0),\n",
       " (8, 'USC00519397', '2010-01-09', 0.0, 68.0),\n",
       " (9, 'USC00519397', '2010-01-10', 0.0, 73.0),\n",
       " (10, 'USC00519397', '2010-01-11', 0.01, 64.0)]"
      ]
     },
     "execution_count": 33,
     "metadata": {},
     "output_type": "execute_result"
    }
   ],
   "source": [
    "engine.execute('SELECT * FROM measurement LIMIT 10').fetchall()"
   ]
  },
  {
   "cell_type": "code",
   "execution_count": 21,
   "metadata": {},
   "outputs": [
    {
     "name": "stdout",
     "output_type": "stream",
     "text": [
      "id INTEGER\n",
      "station TEXT\n",
      "name TEXT\n",
      "latitude FLOAT\n",
      "longitude FLOAT\n",
      "elevation FLOAT\n"
     ]
    }
   ],
   "source": [
    "sta_columns = inspector.get_columns('station')\n",
    "for column in sta_columns:\n",
    "    print(column[\"name\"], column[\"type\"])"
   ]
  },
  {
   "cell_type": "code",
   "execution_count": 23,
   "metadata": {},
   "outputs": [
    {
     "data": {
      "text/plain": [
       "[(1, 'USC00519397', 'WAIKIKI 717.2, HI US', 21.2716, -157.8168, 3.0),\n",
       " (2, 'USC00513117', 'KANEOHE 838.1, HI US', 21.4234, -157.8015, 14.6),\n",
       " (3, 'USC00514830', 'KUALOA RANCH HEADQUARTERS 886.9, HI US', 21.5213, -157.8374, 7.0),\n",
       " (4, 'USC00517948', 'PEARL CITY, HI US', 21.3934, -157.9751, 11.9),\n",
       " (5, 'USC00518838', 'UPPER WAHIAWA 874.3, HI US', 21.4992, -158.0111, 306.6),\n",
       " (6, 'USC00519523', 'WAIMANALO EXPERIMENTAL FARM, HI US', 21.33556, -157.71139, 19.5),\n",
       " (7, 'USC00519281', 'WAIHEE 837.5, HI US', 21.45167, -157.84888999999998, 32.9),\n",
       " (8, 'USC00511918', 'HONOLULU OBSERVATORY 702.2, HI US', 21.3152, -157.9992, 0.9),\n",
       " (9, 'USC00516128', 'MANOA LYON ARBO 785.2, HI US', 21.3331, -157.8025, 152.4)]"
      ]
     },
     "execution_count": 23,
     "metadata": {},
     "output_type": "execute_result"
    }
   ],
   "source": [
    "engine.execute('SELECT * FROM station LIMIT 10').fetchall()"
   ]
  },
  {
   "cell_type": "code",
   "execution_count": 9,
   "metadata": {},
   "outputs": [],
   "source": [
    "# We can view all of the classes that automap found\n"
   ]
  },
  {
   "cell_type": "code",
   "execution_count": 24,
   "metadata": {},
   "outputs": [],
   "source": [
    "Base = automap_base()"
   ]
  },
  {
   "cell_type": "code",
   "execution_count": 25,
   "metadata": {},
   "outputs": [],
   "source": [
    "Base.prepare(engine, reflect=True)"
   ]
  },
  {
   "cell_type": "code",
   "execution_count": 26,
   "metadata": {},
   "outputs": [
    {
     "data": {
      "text/plain": [
       "['measurement', 'station']"
      ]
     },
     "execution_count": 26,
     "metadata": {},
     "output_type": "execute_result"
    }
   ],
   "source": [
    "Base.classes.keys()"
   ]
  },
  {
   "cell_type": "code",
   "execution_count": 29,
   "metadata": {},
   "outputs": [],
   "source": [
    "Measurement = Base.classes.measurement"
   ]
  },
  {
   "cell_type": "code",
   "execution_count": 10,
   "metadata": {},
   "outputs": [],
   "source": [
    "# Save references to each table\n"
   ]
  },
  {
   "cell_type": "code",
   "execution_count": null,
   "metadata": {},
   "outputs": [],
   "source": []
  },
  {
   "cell_type": "code",
   "execution_count": 11,
   "metadata": {},
   "outputs": [],
   "source": [
    "# Create our session (link) from Python to the DB\n"
   ]
  },
  {
   "cell_type": "code",
   "execution_count": 30,
   "metadata": {},
   "outputs": [],
   "source": [
    "session = Session(engine)"
   ]
  },
  {
   "cell_type": "code",
   "execution_count": 34,
   "metadata": {},
   "outputs": [
    {
     "name": "stdout",
     "output_type": "stream",
     "text": [
      "(<sqlalchemy.ext.automap.measurement object at 0x7fa63cc680d0>, 0.08)\n",
      "(<sqlalchemy.ext.automap.measurement object at 0x7fa63cdd3e80>, 0.0)\n",
      "(<sqlalchemy.ext.automap.measurement object at 0x7fa63cdd3ee0>, 0.0)\n",
      "(<sqlalchemy.ext.automap.measurement object at 0x7fa63cc78730>, 0.0)\n",
      "(<sqlalchemy.ext.automap.measurement object at 0x7fa63cda4550>, None)\n",
      "(<sqlalchemy.ext.automap.measurement object at 0x7fa638fee430>, 0.06)\n",
      "(<sqlalchemy.ext.automap.measurement object at 0x7fa63cdd3f70>, 0.0)\n",
      "(<sqlalchemy.ext.automap.measurement object at 0x7fa63cdd3fd0>, 0.0)\n",
      "(<sqlalchemy.ext.automap.measurement object at 0x7fa63cdd4070>, 0.0)\n",
      "(<sqlalchemy.ext.automap.measurement object at 0x7fa63cdd40d0>, 0.01)\n",
      "(<sqlalchemy.ext.automap.measurement object at 0x7fa63cdd4130>, 0.0)\n",
      "(<sqlalchemy.ext.automap.measurement object at 0x7fa63cdd4190>, 0.0)\n",
      "(<sqlalchemy.ext.automap.measurement object at 0x7fa63cdd41f0>, 0.0)\n",
      "(<sqlalchemy.ext.automap.measurement object at 0x7fa63cdd4250>, 0.0)\n",
      "(<sqlalchemy.ext.automap.measurement object at 0x7fa63cdd42b0>, 0.0)\n",
      "(<sqlalchemy.ext.automap.measurement object at 0x7fa63cdd4310>, 0.0)\n",
      "(<sqlalchemy.ext.automap.measurement object at 0x7fa63cdd4370>, 0.0)\n",
      "(<sqlalchemy.ext.automap.measurement object at 0x7fa63cdd43d0>, 0.0)\n",
      "(<sqlalchemy.ext.automap.measurement object at 0x7fa63cdd4430>, 0.0)\n",
      "(<sqlalchemy.ext.automap.measurement object at 0x7fa63cdd4490>, 0.0)\n",
      "(<sqlalchemy.ext.automap.measurement object at 0x7fa63cdd44f0>, 0.0)\n",
      "(<sqlalchemy.ext.automap.measurement object at 0x7fa63cdd4550>, 0.01)\n",
      "(<sqlalchemy.ext.automap.measurement object at 0x7fa63cdd45b0>, 0.0)\n",
      "(<sqlalchemy.ext.automap.measurement object at 0x7fa63cdd4610>, 0.04)\n",
      "(<sqlalchemy.ext.automap.measurement object at 0x7fa63cdd4670>, 0.12)\n",
      "(<sqlalchemy.ext.automap.measurement object at 0x7fa63cdd46d0>, 0.0)\n",
      "(<sqlalchemy.ext.automap.measurement object at 0x7fa63cdd4730>, None)\n",
      "(<sqlalchemy.ext.automap.measurement object at 0x7fa63cdd4790>, 0.03)\n",
      "(<sqlalchemy.ext.automap.measurement object at 0x7fa63cdd47f0>, 0.01)\n",
      "(<sqlalchemy.ext.automap.measurement object at 0x7fa63cdd4850>, None)\n",
      "(<sqlalchemy.ext.automap.measurement object at 0x7fa63cdd48b0>, 0.01)\n",
      "(<sqlalchemy.ext.automap.measurement object at 0x7fa63cdd4910>, 0.0)\n",
      "(<sqlalchemy.ext.automap.measurement object at 0x7fa63cdd4970>, 0.0)\n",
      "(<sqlalchemy.ext.automap.measurement object at 0x7fa63cdd49d0>, 0.0)\n",
      "(<sqlalchemy.ext.automap.measurement object at 0x7fa63cdd4a30>, 0.0)\n",
      "(<sqlalchemy.ext.automap.measurement object at 0x7fa63cdd4a90>, 0.0)\n",
      "(<sqlalchemy.ext.automap.measurement object at 0x7fa63cdd4af0>, 0.0)\n",
      "(<sqlalchemy.ext.automap.measurement object at 0x7fa63cdd4b50>, 0.02)\n",
      "(<sqlalchemy.ext.automap.measurement object at 0x7fa63cdd4bb0>, 0.01)\n",
      "(<sqlalchemy.ext.automap.measurement object at 0x7fa63cdd4c10>, 0.0)\n",
      "(<sqlalchemy.ext.automap.measurement object at 0x7fa63cdd4c70>, 0.0)\n",
      "(<sqlalchemy.ext.automap.measurement object at 0x7fa63cdd4cd0>, 0.0)\n",
      "(<sqlalchemy.ext.automap.measurement object at 0x7fa63cdd4d30>, 0.0)\n",
      "(<sqlalchemy.ext.automap.measurement object at 0x7fa63cdd4d90>, None)\n",
      "(<sqlalchemy.ext.automap.measurement object at 0x7fa63cdd4df0>, 0.03)\n",
      "(<sqlalchemy.ext.automap.measurement object at 0x7fa63cdd4e50>, 0.0)\n",
      "(<sqlalchemy.ext.automap.measurement object at 0x7fa63cdd4eb0>, 0.0)\n",
      "(<sqlalchemy.ext.automap.measurement object at 0x7fa63cdd4f10>, 0.0)\n",
      "(<sqlalchemy.ext.automap.measurement object at 0x7fa63cdd4f70>, 0.0)\n",
      "(<sqlalchemy.ext.automap.measurement object at 0x7fa63cdd4fd0>, 0.0)\n",
      "(<sqlalchemy.ext.automap.measurement object at 0x7fa63cddd070>, 0.0)\n",
      "(<sqlalchemy.ext.automap.measurement object at 0x7fa63cddd0d0>, 0.0)\n",
      "(<sqlalchemy.ext.automap.measurement object at 0x7fa63cddd130>, 0.01)\n",
      "(<sqlalchemy.ext.automap.measurement object at 0x7fa63cddd190>, 0.0)\n",
      "(<sqlalchemy.ext.automap.measurement object at 0x7fa63cddd1f0>, 0.0)\n",
      "(<sqlalchemy.ext.automap.measurement object at 0x7fa63cddd250>, 0.12)\n",
      "(<sqlalchemy.ext.automap.measurement object at 0x7fa63cddd2b0>, 0.08)\n",
      "(<sqlalchemy.ext.automap.measurement object at 0x7fa63cddd310>, 0.03)\n",
      "(<sqlalchemy.ext.automap.measurement object at 0x7fa63cddd370>, 0.0)\n",
      "(<sqlalchemy.ext.automap.measurement object at 0x7fa63cddd3d0>, 0.43)\n",
      "(<sqlalchemy.ext.automap.measurement object at 0x7fa63cddd430>, 0.06)\n",
      "(<sqlalchemy.ext.automap.measurement object at 0x7fa63cddd490>, None)\n",
      "(<sqlalchemy.ext.automap.measurement object at 0x7fa63cddd4f0>, 0.0)\n",
      "(<sqlalchemy.ext.automap.measurement object at 0x7fa63cddd550>, 0.0)\n",
      "(<sqlalchemy.ext.automap.measurement object at 0x7fa63cddd5b0>, 0.0)\n",
      "(<sqlalchemy.ext.automap.measurement object at 0x7fa63cddd610>, 0.06)\n",
      "(<sqlalchemy.ext.automap.measurement object at 0x7fa63cddd670>, 0.0)\n",
      "(<sqlalchemy.ext.automap.measurement object at 0x7fa63cddd6d0>, 0.0)\n",
      "(<sqlalchemy.ext.automap.measurement object at 0x7fa63cddd730>, 0.0)\n",
      "(<sqlalchemy.ext.automap.measurement object at 0x7fa63cddd790>, 0.0)\n",
      "(<sqlalchemy.ext.automap.measurement object at 0x7fa63cddd7f0>, 0.0)\n",
      "(<sqlalchemy.ext.automap.measurement object at 0x7fa63cddd850>, 0.0)\n",
      "(<sqlalchemy.ext.automap.measurement object at 0x7fa63cddd8b0>, None)\n",
      "(<sqlalchemy.ext.automap.measurement object at 0x7fa63cddd910>, 0.0)\n",
      "(<sqlalchemy.ext.automap.measurement object at 0x7fa63cddd970>, 0.0)\n",
      "(<sqlalchemy.ext.automap.measurement object at 0x7fa63cddd9d0>, 0.0)\n",
      "(<sqlalchemy.ext.automap.measurement object at 0x7fa63cddda30>, 0.0)\n",
      "(<sqlalchemy.ext.automap.measurement object at 0x7fa63cddda90>, 0.0)\n",
      "(<sqlalchemy.ext.automap.measurement object at 0x7fa63cdddaf0>, 0.0)\n",
      "(<sqlalchemy.ext.automap.measurement object at 0x7fa63cdddb50>, 0.01)\n",
      "(<sqlalchemy.ext.automap.measurement object at 0x7fa63cdddbb0>, 0.17)\n",
      "(<sqlalchemy.ext.automap.measurement object at 0x7fa63cdddc10>, 0.15)\n",
      "(<sqlalchemy.ext.automap.measurement object at 0x7fa63cdddc70>, 0.27)\n",
      "(<sqlalchemy.ext.automap.measurement object at 0x7fa63cdddcd0>, 0.01)\n",
      "(<sqlalchemy.ext.automap.measurement object at 0x7fa63cdddd30>, 0.0)\n",
      "(<sqlalchemy.ext.automap.measurement object at 0x7fa63cdddd90>, 0.01)\n",
      "(<sqlalchemy.ext.automap.measurement object at 0x7fa63cddddf0>, 0.0)\n",
      "(<sqlalchemy.ext.automap.measurement object at 0x7fa63cddde50>, 0.01)\n",
      "(<sqlalchemy.ext.automap.measurement object at 0x7fa63cdddeb0>, 0.01)\n",
      "(<sqlalchemy.ext.automap.measurement object at 0x7fa63cdddf10>, 0.0)\n",
      "(<sqlalchemy.ext.automap.measurement object at 0x7fa63cdddf70>, 0.0)\n",
      "(<sqlalchemy.ext.automap.measurement object at 0x7fa63cdddfd0>, 0.01)\n",
      "(<sqlalchemy.ext.automap.measurement object at 0x7fa63cde9070>, 0.0)\n",
      "(<sqlalchemy.ext.automap.measurement object at 0x7fa63cde90d0>, 0.0)\n",
      "(<sqlalchemy.ext.automap.measurement object at 0x7fa63cde9130>, 0.0)\n",
      "(<sqlalchemy.ext.automap.measurement object at 0x7fa63cde9190>, 0.04)\n",
      "(<sqlalchemy.ext.automap.measurement object at 0x7fa63cde91f0>, 0.01)\n",
      "(<sqlalchemy.ext.automap.measurement object at 0x7fa63cde9250>, 0.0)\n",
      "(<sqlalchemy.ext.automap.measurement object at 0x7fa63cde92b0>, 0.02)\n",
      "(<sqlalchemy.ext.automap.measurement object at 0x7fa63cde9310>, 0.0)\n",
      "(<sqlalchemy.ext.automap.measurement object at 0x7fa63cde9370>, 0.0)\n",
      "(<sqlalchemy.ext.automap.measurement object at 0x7fa63cde93d0>, 0.0)\n",
      "(<sqlalchemy.ext.automap.measurement object at 0x7fa63cde9430>, 0.0)\n",
      "(<sqlalchemy.ext.automap.measurement object at 0x7fa63cde9490>, 0.0)\n",
      "(<sqlalchemy.ext.automap.measurement object at 0x7fa63cde94f0>, 0.0)\n",
      "(<sqlalchemy.ext.automap.measurement object at 0x7fa63cde9550>, 0.03)\n",
      "(<sqlalchemy.ext.automap.measurement object at 0x7fa63cde95b0>, 0.2)\n",
      "(<sqlalchemy.ext.automap.measurement object at 0x7fa63cde9610>, 0.08)\n",
      "(<sqlalchemy.ext.automap.measurement object at 0x7fa63cde9670>, 0.01)\n",
      "(<sqlalchemy.ext.automap.measurement object at 0x7fa63cde96d0>, 0.0)\n",
      "(<sqlalchemy.ext.automap.measurement object at 0x7fa63cde9730>, 0.05)\n",
      "(<sqlalchemy.ext.automap.measurement object at 0x7fa63cde9790>, 0.0)\n",
      "(<sqlalchemy.ext.automap.measurement object at 0x7fa63cde97f0>, 0.0)\n",
      "(<sqlalchemy.ext.automap.measurement object at 0x7fa63cde9850>, 0.0)\n",
      "(<sqlalchemy.ext.automap.measurement object at 0x7fa63cde98b0>, 0.0)\n",
      "(<sqlalchemy.ext.automap.measurement object at 0x7fa63cde9910>, 0.0)\n",
      "(<sqlalchemy.ext.automap.measurement object at 0x7fa63cde9970>, 0.0)\n",
      "(<sqlalchemy.ext.automap.measurement object at 0x7fa63cde99d0>, 0.0)\n",
      "(<sqlalchemy.ext.automap.measurement object at 0x7fa63cde9a30>, 0.03)\n",
      "(<sqlalchemy.ext.automap.measurement object at 0x7fa63cde9a90>, 0.0)\n",
      "(<sqlalchemy.ext.automap.measurement object at 0x7fa63cde9af0>, 0.0)\n",
      "(<sqlalchemy.ext.automap.measurement object at 0x7fa63cde9b50>, 0.0)\n",
      "(<sqlalchemy.ext.automap.measurement object at 0x7fa63cde9bb0>, None)\n",
      "(<sqlalchemy.ext.automap.measurement object at 0x7fa63cde9c10>, 0.0)\n",
      "(<sqlalchemy.ext.automap.measurement object at 0x7fa63cde9c70>, 0.05)\n",
      "(<sqlalchemy.ext.automap.measurement object at 0x7fa63cde9cd0>, 0.0)\n",
      "(<sqlalchemy.ext.automap.measurement object at 0x7fa63cde9d30>, 0.0)\n",
      "(<sqlalchemy.ext.automap.measurement object at 0x7fa63cde9d90>, 0.02)\n",
      "(<sqlalchemy.ext.automap.measurement object at 0x7fa63cde9df0>, 0.0)\n",
      "(<sqlalchemy.ext.automap.measurement object at 0x7fa63cde9e50>, 0.0)\n",
      "(<sqlalchemy.ext.automap.measurement object at 0x7fa63cde9eb0>, 0.0)\n",
      "(<sqlalchemy.ext.automap.measurement object at 0x7fa63cde9f10>, 0.0)\n",
      "(<sqlalchemy.ext.automap.measurement object at 0x7fa63cde9f70>, 0.0)\n",
      "(<sqlalchemy.ext.automap.measurement object at 0x7fa63cde9fd0>, 0.0)\n",
      "(<sqlalchemy.ext.automap.measurement object at 0x7fa63cdf5070>, 0.01)\n",
      "(<sqlalchemy.ext.automap.measurement object at 0x7fa63cdf50d0>, 0.0)\n",
      "(<sqlalchemy.ext.automap.measurement object at 0x7fa63cdf5130>, 0.0)\n",
      "(<sqlalchemy.ext.automap.measurement object at 0x7fa63cdf5190>, 0.0)\n",
      "(<sqlalchemy.ext.automap.measurement object at 0x7fa63cdf51f0>, 0.0)\n",
      "(<sqlalchemy.ext.automap.measurement object at 0x7fa63cdf5250>, 0.0)\n",
      "(<sqlalchemy.ext.automap.measurement object at 0x7fa63cdf52b0>, 0.0)\n",
      "(<sqlalchemy.ext.automap.measurement object at 0x7fa63cdf5310>, 0.0)\n",
      "(<sqlalchemy.ext.automap.measurement object at 0x7fa63cdf5370>, 0.0)\n",
      "(<sqlalchemy.ext.automap.measurement object at 0x7fa63cdf53d0>, 0.0)\n",
      "(<sqlalchemy.ext.automap.measurement object at 0x7fa63cdf5430>, 0.0)\n",
      "(<sqlalchemy.ext.automap.measurement object at 0x7fa63cdf5490>, 0.0)\n",
      "(<sqlalchemy.ext.automap.measurement object at 0x7fa63cdf54f0>, 0.0)\n",
      "(<sqlalchemy.ext.automap.measurement object at 0x7fa63cdf5550>, 0.0)\n",
      "(<sqlalchemy.ext.automap.measurement object at 0x7fa63cdf55b0>, 0.0)\n",
      "(<sqlalchemy.ext.automap.measurement object at 0x7fa63cdf5610>, 0.0)\n",
      "(<sqlalchemy.ext.automap.measurement object at 0x7fa63cdf5670>, 0.0)\n",
      "(<sqlalchemy.ext.automap.measurement object at 0x7fa63cdf56d0>, 0.0)\n",
      "(<sqlalchemy.ext.automap.measurement object at 0x7fa63cdf5730>, 0.0)\n",
      "(<sqlalchemy.ext.automap.measurement object at 0x7fa63cdf5790>, 0.0)\n",
      "(<sqlalchemy.ext.automap.measurement object at 0x7fa63cdf57f0>, 0.0)\n",
      "(<sqlalchemy.ext.automap.measurement object at 0x7fa63cdf5850>, 0.0)\n",
      "(<sqlalchemy.ext.automap.measurement object at 0x7fa63cdf58b0>, 0.0)\n",
      "(<sqlalchemy.ext.automap.measurement object at 0x7fa63cdf5910>, 0.0)\n",
      "(<sqlalchemy.ext.automap.measurement object at 0x7fa63cdf5970>, 0.02)\n",
      "(<sqlalchemy.ext.automap.measurement object at 0x7fa63cdf59d0>, 0.0)\n",
      "(<sqlalchemy.ext.automap.measurement object at 0x7fa63cdf5a30>, 0.0)\n",
      "(<sqlalchemy.ext.automap.measurement object at 0x7fa63cdf5a90>, 0.0)\n",
      "(<sqlalchemy.ext.automap.measurement object at 0x7fa63cdf5af0>, 0.0)\n",
      "(<sqlalchemy.ext.automap.measurement object at 0x7fa63cdf5b20>, 0.01)\n",
      "(<sqlalchemy.ext.automap.measurement object at 0x7fa63cdf5bb0>, 0.05)\n",
      "(<sqlalchemy.ext.automap.measurement object at 0x7fa63cdf5c40>, 0.09)\n",
      "(<sqlalchemy.ext.automap.measurement object at 0x7fa63cdf5cd0>, 0.05)\n",
      "(<sqlalchemy.ext.automap.measurement object at 0x7fa63cdf5d60>, 0.06)\n",
      "(<sqlalchemy.ext.automap.measurement object at 0x7fa63cdf5df0>, 0.08)\n",
      "(<sqlalchemy.ext.automap.measurement object at 0x7fa63cdf5e80>, 0.08)\n",
      "(<sqlalchemy.ext.automap.measurement object at 0x7fa63cdf5f10>, 0.03)\n",
      "(<sqlalchemy.ext.automap.measurement object at 0x7fa63cdf5fa0>, 0.06)\n",
      "(<sqlalchemy.ext.automap.measurement object at 0x7fa63ce00070>, 0.09)\n",
      "(<sqlalchemy.ext.automap.measurement object at 0x7fa63ce00100>, 0.0)\n",
      "(<sqlalchemy.ext.automap.measurement object at 0x7fa63ce00190>, 0.0)\n",
      "(<sqlalchemy.ext.automap.measurement object at 0x7fa63ce00220>, 0.0)\n",
      "(<sqlalchemy.ext.automap.measurement object at 0x7fa63ce002b0>, None)\n",
      "(<sqlalchemy.ext.automap.measurement object at 0x7fa63ce00340>, 0.02)\n",
      "(<sqlalchemy.ext.automap.measurement object at 0x7fa63ce003d0>, 0.0)\n",
      "(<sqlalchemy.ext.automap.measurement object at 0x7fa63ce00460>, 0.04)\n",
      "(<sqlalchemy.ext.automap.measurement object at 0x7fa63ce004f0>, 0.0)\n",
      "(<sqlalchemy.ext.automap.measurement object at 0x7fa63ce00580>, 0.0)\n",
      "(<sqlalchemy.ext.automap.measurement object at 0x7fa63ce00610>, 0.0)\n",
      "(<sqlalchemy.ext.automap.measurement object at 0x7fa63ce006a0>, 0.0)\n",
      "(<sqlalchemy.ext.automap.measurement object at 0x7fa63ce00730>, 0.0)\n",
      "(<sqlalchemy.ext.automap.measurement object at 0x7fa63ce007c0>, 0.0)\n",
      "(<sqlalchemy.ext.automap.measurement object at 0x7fa63ce00850>, 0.0)\n",
      "(<sqlalchemy.ext.automap.measurement object at 0x7fa63ce008e0>, 0.0)\n",
      "(<sqlalchemy.ext.automap.measurement object at 0x7fa63ce00970>, 0.0)\n",
      "(<sqlalchemy.ext.automap.measurement object at 0x7fa63ce00a00>, 0.02)\n",
      "(<sqlalchemy.ext.automap.measurement object at 0x7fa63ce00a90>, 0.04)\n",
      "(<sqlalchemy.ext.automap.measurement object at 0x7fa63ce00b20>, 0.01)\n",
      "(<sqlalchemy.ext.automap.measurement object at 0x7fa63ce00bb0>, 0.02)\n",
      "(<sqlalchemy.ext.automap.measurement object at 0x7fa63ce00c40>, 0.07)\n",
      "(<sqlalchemy.ext.automap.measurement object at 0x7fa63ce00cd0>, 0.08)\n",
      "(<sqlalchemy.ext.automap.measurement object at 0x7fa63ce00d60>, 0.03)\n",
      "(<sqlalchemy.ext.automap.measurement object at 0x7fa63ce00df0>, 0.0)\n",
      "(<sqlalchemy.ext.automap.measurement object at 0x7fa63ce00e80>, 0.0)\n",
      "(<sqlalchemy.ext.automap.measurement object at 0x7fa63ce00f10>, 0.0)\n",
      "(<sqlalchemy.ext.automap.measurement object at 0x7fa63ce00fa0>, 0.0)\n",
      "(<sqlalchemy.ext.automap.measurement object at 0x7fa63ce07070>, 0.0)\n",
      "(<sqlalchemy.ext.automap.measurement object at 0x7fa63ce07100>, 0.0)\n",
      "(<sqlalchemy.ext.automap.measurement object at 0x7fa63ce07190>, 0.0)\n",
      "(<sqlalchemy.ext.automap.measurement object at 0x7fa63ce07220>, 0.0)\n",
      "(<sqlalchemy.ext.automap.measurement object at 0x7fa63ce072b0>, 0.01)\n",
      "(<sqlalchemy.ext.automap.measurement object at 0x7fa63ce07340>, 0.0)\n",
      "(<sqlalchemy.ext.automap.measurement object at 0x7fa63ce073d0>, 0.05)\n",
      "(<sqlalchemy.ext.automap.measurement object at 0x7fa63ce07460>, 0.0)\n",
      "(<sqlalchemy.ext.automap.measurement object at 0x7fa63ce074f0>, 0.0)\n",
      "(<sqlalchemy.ext.automap.measurement object at 0x7fa63ce07580>, 0.0)\n",
      "(<sqlalchemy.ext.automap.measurement object at 0x7fa63ce07610>, 0.0)\n",
      "(<sqlalchemy.ext.automap.measurement object at 0x7fa63ce076a0>, 0.0)\n",
      "(<sqlalchemy.ext.automap.measurement object at 0x7fa63ce07730>, 0.01)\n",
      "(<sqlalchemy.ext.automap.measurement object at 0x7fa63ce077c0>, 0.0)\n",
      "(<sqlalchemy.ext.automap.measurement object at 0x7fa63ce07850>, 0.04)\n",
      "(<sqlalchemy.ext.automap.measurement object at 0x7fa63ce078e0>, 0.03)\n",
      "(<sqlalchemy.ext.automap.measurement object at 0x7fa63ce07970>, 0.0)\n",
      "(<sqlalchemy.ext.automap.measurement object at 0x7fa63ce07a00>, 0.04)\n",
      "(<sqlalchemy.ext.automap.measurement object at 0x7fa63ce07a90>, 0.0)\n",
      "(<sqlalchemy.ext.automap.measurement object at 0x7fa63ce07b20>, 0.0)\n",
      "(<sqlalchemy.ext.automap.measurement object at 0x7fa63ce07bb0>, 0.0)\n",
      "(<sqlalchemy.ext.automap.measurement object at 0x7fa63ce07c40>, 0.0)\n",
      "(<sqlalchemy.ext.automap.measurement object at 0x7fa63ce07cd0>, 0.02)\n",
      "(<sqlalchemy.ext.automap.measurement object at 0x7fa63ce07d60>, 0.04)\n",
      "(<sqlalchemy.ext.automap.measurement object at 0x7fa63ce07df0>, 0.01)\n",
      "(<sqlalchemy.ext.automap.measurement object at 0x7fa63ce07e80>, 0.0)\n",
      "(<sqlalchemy.ext.automap.measurement object at 0x7fa63ce07f10>, 0.0)\n",
      "(<sqlalchemy.ext.automap.measurement object at 0x7fa63ce07fa0>, 0.06)\n",
      "(<sqlalchemy.ext.automap.measurement object at 0x7fa63ce0f070>, 0.0)\n",
      "(<sqlalchemy.ext.automap.measurement object at 0x7fa63ce0f100>, 0.0)\n",
      "(<sqlalchemy.ext.automap.measurement object at 0x7fa63ce0f190>, 0.0)\n",
      "(<sqlalchemy.ext.automap.measurement object at 0x7fa63ce0f220>, 0.05)\n",
      "(<sqlalchemy.ext.automap.measurement object at 0x7fa63ce0f2b0>, 0.0)\n",
      "(<sqlalchemy.ext.automap.measurement object at 0x7fa63ce0f340>, 0.0)\n",
      "(<sqlalchemy.ext.automap.measurement object at 0x7fa63ce0f3d0>, 0.0)\n",
      "(<sqlalchemy.ext.automap.measurement object at 0x7fa63ce0f460>, 0.0)\n",
      "(<sqlalchemy.ext.automap.measurement object at 0x7fa63ce0f4f0>, 0.0)\n",
      "(<sqlalchemy.ext.automap.measurement object at 0x7fa63ce0f580>, 0.0)\n",
      "(<sqlalchemy.ext.automap.measurement object at 0x7fa63ce0f610>, 0.0)\n",
      "(<sqlalchemy.ext.automap.measurement object at 0x7fa63ce0f6a0>, 0.0)\n",
      "(<sqlalchemy.ext.automap.measurement object at 0x7fa63ce0f730>, 0.0)\n",
      "(<sqlalchemy.ext.automap.measurement object at 0x7fa63ce0f7c0>, 0.04)\n",
      "(<sqlalchemy.ext.automap.measurement object at 0x7fa63ce0f850>, 0.0)\n",
      "(<sqlalchemy.ext.automap.measurement object at 0x7fa63ce0f8e0>, 0.0)\n",
      "(<sqlalchemy.ext.automap.measurement object at 0x7fa63ce0f970>, 0.0)\n",
      "(<sqlalchemy.ext.automap.measurement object at 0x7fa63ce0fa00>, 0.0)\n",
      "(<sqlalchemy.ext.automap.measurement object at 0x7fa63ce0fa90>, 0.0)\n",
      "(<sqlalchemy.ext.automap.measurement object at 0x7fa63ce0fb20>, 0.0)\n",
      "(<sqlalchemy.ext.automap.measurement object at 0x7fa63ce0fbb0>, 0.0)\n",
      "(<sqlalchemy.ext.automap.measurement object at 0x7fa63ce0fc40>, 0.57)\n",
      "(<sqlalchemy.ext.automap.measurement object at 0x7fa63ce0fcd0>, 0.31)\n",
      "(<sqlalchemy.ext.automap.measurement object at 0x7fa63ce0fd60>, 0.03)\n",
      "(<sqlalchemy.ext.automap.measurement object at 0x7fa63ce0fdf0>, 0.0)\n",
      "(<sqlalchemy.ext.automap.measurement object at 0x7fa63ce0fe80>, 0.06)\n",
      "(<sqlalchemy.ext.automap.measurement object at 0x7fa63ce0ff10>, 0.0)\n",
      "(<sqlalchemy.ext.automap.measurement object at 0x7fa63ce0ffa0>, 0.0)\n",
      "(<sqlalchemy.ext.automap.measurement object at 0x7fa63ce17070>, 0.0)\n",
      "(<sqlalchemy.ext.automap.measurement object at 0x7fa63ce17100>, 0.0)\n",
      "(<sqlalchemy.ext.automap.measurement object at 0x7fa63ce17190>, 0.0)\n",
      "(<sqlalchemy.ext.automap.measurement object at 0x7fa63ce17220>, 0.0)\n",
      "(<sqlalchemy.ext.automap.measurement object at 0x7fa63ce172b0>, 0.0)\n",
      "(<sqlalchemy.ext.automap.measurement object at 0x7fa63ce17340>, 0.0)\n",
      "(<sqlalchemy.ext.automap.measurement object at 0x7fa63ce173d0>, 0.0)\n",
      "(<sqlalchemy.ext.automap.measurement object at 0x7fa63ce17460>, 0.0)\n",
      "(<sqlalchemy.ext.automap.measurement object at 0x7fa63ce174f0>, 0.0)\n",
      "(<sqlalchemy.ext.automap.measurement object at 0x7fa63ce17580>, 0.0)\n",
      "(<sqlalchemy.ext.automap.measurement object at 0x7fa63ce17610>, 0.0)\n",
      "(<sqlalchemy.ext.automap.measurement object at 0x7fa63ce176a0>, 0.07)\n",
      "(<sqlalchemy.ext.automap.measurement object at 0x7fa63ce17730>, 0.0)\n",
      "(<sqlalchemy.ext.automap.measurement object at 0x7fa63ce177c0>, 0.0)\n",
      "(<sqlalchemy.ext.automap.measurement object at 0x7fa63ce17850>, 0.0)\n",
      "(<sqlalchemy.ext.automap.measurement object at 0x7fa63ce178e0>, 0.0)\n",
      "(<sqlalchemy.ext.automap.measurement object at 0x7fa63ce17970>, 0.0)\n",
      "(<sqlalchemy.ext.automap.measurement object at 0x7fa63ce17a00>, 0.0)\n",
      "(<sqlalchemy.ext.automap.measurement object at 0x7fa63ce17a90>, 0.07)\n",
      "(<sqlalchemy.ext.automap.measurement object at 0x7fa63ce17b20>, 0.05)\n",
      "(<sqlalchemy.ext.automap.measurement object at 0x7fa63ce17bb0>, 0.06)\n",
      "(<sqlalchemy.ext.automap.measurement object at 0x7fa63ce17c40>, 0.03)\n",
      "(<sqlalchemy.ext.automap.measurement object at 0x7fa63ce17cd0>, 0.02)\n",
      "(<sqlalchemy.ext.automap.measurement object at 0x7fa63ccb9280>, 0.0)\n",
      "(<sqlalchemy.ext.automap.measurement object at 0x7fa63ccb2f40>, 0.01)\n",
      "(<sqlalchemy.ext.automap.measurement object at 0x7fa63ccb2d90>, 0.01)\n",
      "(<sqlalchemy.ext.automap.measurement object at 0x7fa63ccb2760>, None)\n",
      "(<sqlalchemy.ext.automap.measurement object at 0x7fa63ccb20a0>, 0.0)\n",
      "(<sqlalchemy.ext.automap.measurement object at 0x7fa63ccb2e50>, 0.0)\n",
      "(<sqlalchemy.ext.automap.measurement object at 0x7fa63a83f580>, 0.0)\n",
      "(<sqlalchemy.ext.automap.measurement object at 0x7fa63ce17d60>, 0.0)\n",
      "(<sqlalchemy.ext.automap.measurement object at 0x7fa63ce17e20>, 0.0)\n",
      "(<sqlalchemy.ext.automap.measurement object at 0x7fa63ce17eb0>, 0.23)\n",
      "(<sqlalchemy.ext.automap.measurement object at 0x7fa63ce17f40>, 0.0)\n",
      "(<sqlalchemy.ext.automap.measurement object at 0x7fa63ce20040>, 0.0)\n",
      "(<sqlalchemy.ext.automap.measurement object at 0x7fa63ce200a0>, 0.0)\n",
      "(<sqlalchemy.ext.automap.measurement object at 0x7fa63ce20130>, 0.0)\n",
      "(<sqlalchemy.ext.automap.measurement object at 0x7fa63ce201c0>, 0.0)\n",
      "(<sqlalchemy.ext.automap.measurement object at 0x7fa63ce20250>, None)\n",
      "(<sqlalchemy.ext.automap.measurement object at 0x7fa63ce202e0>, 0.03)\n",
      "(<sqlalchemy.ext.automap.measurement object at 0x7fa63ce20370>, 0.0)\n",
      "(<sqlalchemy.ext.automap.measurement object at 0x7fa63ce20400>, 0.0)\n",
      "(<sqlalchemy.ext.automap.measurement object at 0x7fa63ce20490>, 0.0)\n",
      "(<sqlalchemy.ext.automap.measurement object at 0x7fa63ce20520>, 0.0)\n",
      "(<sqlalchemy.ext.automap.measurement object at 0x7fa63ce205b0>, 0.0)\n",
      "(<sqlalchemy.ext.automap.measurement object at 0x7fa63ce20640>, 0.0)\n",
      "(<sqlalchemy.ext.automap.measurement object at 0x7fa63ce206d0>, 0.0)\n",
      "(<sqlalchemy.ext.automap.measurement object at 0x7fa63ce20760>, 0.0)\n",
      "(<sqlalchemy.ext.automap.measurement object at 0x7fa63ce207f0>, 0.0)\n",
      "(<sqlalchemy.ext.automap.measurement object at 0x7fa63ce20880>, 0.04)\n",
      "(<sqlalchemy.ext.automap.measurement object at 0x7fa63ce20910>, 0.0)\n",
      "(<sqlalchemy.ext.automap.measurement object at 0x7fa63ce209a0>, 0.0)\n",
      "(<sqlalchemy.ext.automap.measurement object at 0x7fa63ce20a30>, 0.0)\n",
      "(<sqlalchemy.ext.automap.measurement object at 0x7fa63ce20ac0>, 0.0)\n",
      "(<sqlalchemy.ext.automap.measurement object at 0x7fa63ce20b50>, 0.0)\n",
      "(<sqlalchemy.ext.automap.measurement object at 0x7fa63ce20be0>, 0.0)\n",
      "(<sqlalchemy.ext.automap.measurement object at 0x7fa63ce20c70>, 1.58)\n",
      "(<sqlalchemy.ext.automap.measurement object at 0x7fa63ce20d00>, 0.77)\n",
      "(<sqlalchemy.ext.automap.measurement object at 0x7fa63ce20d90>, 0.0)\n",
      "(<sqlalchemy.ext.automap.measurement object at 0x7fa63ce20e20>, 0.0)\n",
      "(<sqlalchemy.ext.automap.measurement object at 0x7fa63ce20eb0>, 0.0)\n",
      "(<sqlalchemy.ext.automap.measurement object at 0x7fa63ce20f40>, 0.0)\n",
      "(<sqlalchemy.ext.automap.measurement object at 0x7fa63ce27040>, 0.0)\n",
      "(<sqlalchemy.ext.automap.measurement object at 0x7fa63ce270a0>, 0.0)\n",
      "(<sqlalchemy.ext.automap.measurement object at 0x7fa63ce27130>, 0.0)\n",
      "(<sqlalchemy.ext.automap.measurement object at 0x7fa63ce271c0>, 1.4)\n",
      "(<sqlalchemy.ext.automap.measurement object at 0x7fa63ce27250>, 0.0)\n",
      "(<sqlalchemy.ext.automap.measurement object at 0x7fa63ce272e0>, 0.0)\n",
      "(<sqlalchemy.ext.automap.measurement object at 0x7fa63ce27370>, None)\n",
      "(<sqlalchemy.ext.automap.measurement object at 0x7fa63ce27400>, 0.13)\n",
      "(<sqlalchemy.ext.automap.measurement object at 0x7fa63ce27490>, 0.55)\n",
      "(<sqlalchemy.ext.automap.measurement object at 0x7fa63ce27520>, 0.06)\n",
      "(<sqlalchemy.ext.automap.measurement object at 0x7fa63ce275b0>, 0.01)\n",
      "(<sqlalchemy.ext.automap.measurement object at 0x7fa63ce27640>, 0.0)\n",
      "(<sqlalchemy.ext.automap.measurement object at 0x7fa63ce276d0>, 0.0)\n",
      "(<sqlalchemy.ext.automap.measurement object at 0x7fa63ce27760>, 0.0)\n",
      "(<sqlalchemy.ext.automap.measurement object at 0x7fa63ce277f0>, 0.0)\n",
      "(<sqlalchemy.ext.automap.measurement object at 0x7fa63ce27880>, 0.0)\n",
      "(<sqlalchemy.ext.automap.measurement object at 0x7fa63ce27910>, 0.0)\n",
      "(<sqlalchemy.ext.automap.measurement object at 0x7fa63ce279a0>, 0.01)\n",
      "(<sqlalchemy.ext.automap.measurement object at 0x7fa63ce27a30>, 0.0)\n",
      "(<sqlalchemy.ext.automap.measurement object at 0x7fa63ce27ac0>, 0.0)\n",
      "(<sqlalchemy.ext.automap.measurement object at 0x7fa63ce27b50>, 0.0)\n",
      "(<sqlalchemy.ext.automap.measurement object at 0x7fa63ce27be0>, 0.0)\n",
      "(<sqlalchemy.ext.automap.measurement object at 0x7fa63ce27c70>, 0.09)\n",
      "(<sqlalchemy.ext.automap.measurement object at 0x7fa63ce27d00>, None)\n",
      "(<sqlalchemy.ext.automap.measurement object at 0x7fa63ce27d90>, 0.03)\n",
      "(<sqlalchemy.ext.automap.measurement object at 0x7fa63ce27e20>, 0.0)\n",
      "(<sqlalchemy.ext.automap.measurement object at 0x7fa63ce27eb0>, 0.0)\n",
      "(<sqlalchemy.ext.automap.measurement object at 0x7fa63ce27f40>, 0.0)\n",
      "(<sqlalchemy.ext.automap.measurement object at 0x7fa63ce30040>, 0.0)\n",
      "(<sqlalchemy.ext.automap.measurement object at 0x7fa63ce300a0>, 0.03)\n",
      "(<sqlalchemy.ext.automap.measurement object at 0x7fa63ce30130>, 0.0)\n",
      "(<sqlalchemy.ext.automap.measurement object at 0x7fa63ce301c0>, 0.0)\n",
      "(<sqlalchemy.ext.automap.measurement object at 0x7fa63ce30250>, 0.0)\n",
      "(<sqlalchemy.ext.automap.measurement object at 0x7fa63ce302e0>, 0.0)\n",
      "(<sqlalchemy.ext.automap.measurement object at 0x7fa63ce30370>, 0.0)\n",
      "(<sqlalchemy.ext.automap.measurement object at 0x7fa63ce30400>, 0.0)\n",
      "(<sqlalchemy.ext.automap.measurement object at 0x7fa63ce30490>, 0.0)\n",
      "(<sqlalchemy.ext.automap.measurement object at 0x7fa63ce30520>, 0.0)\n",
      "(<sqlalchemy.ext.automap.measurement object at 0x7fa63ce305b0>, 0.0)\n",
      "(<sqlalchemy.ext.automap.measurement object at 0x7fa63ce30640>, 0.0)\n",
      "(<sqlalchemy.ext.automap.measurement object at 0x7fa63ce306d0>, 0.22)\n",
      "(<sqlalchemy.ext.automap.measurement object at 0x7fa63ce30760>, 0.0)\n",
      "(<sqlalchemy.ext.automap.measurement object at 0x7fa63ce307f0>, 0.0)\n",
      "(<sqlalchemy.ext.automap.measurement object at 0x7fa63ce30880>, 0.0)\n",
      "(<sqlalchemy.ext.automap.measurement object at 0x7fa63ce30910>, 0.0)\n",
      "(<sqlalchemy.ext.automap.measurement object at 0x7fa63ce309a0>, 0.0)\n",
      "(<sqlalchemy.ext.automap.measurement object at 0x7fa63ce30a30>, 0.0)\n"
     ]
    }
   ],
   "source": [
    "for row in session.query(Measurement, Measurement.prcp).limit(365).all():\n",
    "    print(row)"
   ]
  },
  {
   "cell_type": "markdown",
   "metadata": {},
   "source": [
    "# Exploratory Climate Analysis"
   ]
  },
  {
   "cell_type": "code",
   "execution_count": 12,
   "metadata": {},
   "outputs": [],
   "source": [
    "# Design a query to retrieve the last 12 months of precipitation data and plot the results\n",
    "\n",
    "# Calculate the date 1 year ago from the last data point in the database\n",
    "\n",
    "# Perform a query to retrieve the data and precipitation scores\n",
    "\n",
    "# Save the query results as a Pandas DataFrame and set the index to the date column\n",
    "\n",
    "# Sort the dataframe by date\n",
    "\n",
    "# Use Pandas Plotting with Matplotlib to plot the data\n"
   ]
  },
  {
   "cell_type": "code",
   "execution_count": 13,
   "metadata": {},
   "outputs": [],
   "source": [
    "# Use Pandas to calcualte the summary statistics for the precipitation data"
   ]
  },
  {
   "cell_type": "code",
   "execution_count": 14,
   "metadata": {},
   "outputs": [],
   "source": [
    "# Design a query to show how many stations are available in this dataset?\n"
   ]
  },
  {
   "cell_type": "code",
   "execution_count": 15,
   "metadata": {},
   "outputs": [],
   "source": [
    "# What are the most active stations? (i.e. what stations have the most rows)?\n",
    "# List the stations and the counts in descending order.\n"
   ]
  },
  {
   "cell_type": "code",
   "execution_count": 16,
   "metadata": {},
   "outputs": [],
   "source": [
    "# Using the station id from the previous query, calculate the lowest temperature recorded, \n",
    "# highest temperature recorded, and average temperature of the most active station?\n"
   ]
  },
  {
   "cell_type": "code",
   "execution_count": 17,
   "metadata": {},
   "outputs": [],
   "source": [
    "# Choose the station with the highest number of temperature observations.\n",
    "# Query the last 12 months of temperature observation data for this station and plot the results as a histogram\n"
   ]
  },
  {
   "cell_type": "markdown",
   "metadata": {},
   "source": [
    "## Bonus Challenge Assignment"
   ]
  },
  {
   "cell_type": "code",
   "execution_count": 18,
   "metadata": {},
   "outputs": [
    {
     "ename": "NameError",
     "evalue": "name 'session' is not defined",
     "output_type": "error",
     "traceback": [
      "\u001b[0;31m---------------------------------------------------------------------------\u001b[0m",
      "\u001b[0;31mNameError\u001b[0m                                 Traceback (most recent call last)",
      "\u001b[0;32m<ipython-input-18-790a4fe371b5>\u001b[0m in \u001b[0;36m<module>\u001b[0;34m\u001b[0m\n\u001b[1;32m     16\u001b[0m \u001b[0;34m\u001b[0m\u001b[0m\n\u001b[1;32m     17\u001b[0m \u001b[0;31m# function usage example\u001b[0m\u001b[0;34m\u001b[0m\u001b[0;34m\u001b[0m\u001b[0;34m\u001b[0m\u001b[0m\n\u001b[0;32m---> 18\u001b[0;31m \u001b[0mprint\u001b[0m\u001b[0;34m(\u001b[0m\u001b[0mcalc_temps\u001b[0m\u001b[0;34m(\u001b[0m\u001b[0;34m'2012-02-28'\u001b[0m\u001b[0;34m,\u001b[0m \u001b[0;34m'2012-03-05'\u001b[0m\u001b[0;34m)\u001b[0m\u001b[0;34m)\u001b[0m\u001b[0;34m\u001b[0m\u001b[0;34m\u001b[0m\u001b[0m\n\u001b[0m",
      "\u001b[0;32m<ipython-input-18-790a4fe371b5>\u001b[0m in \u001b[0;36mcalc_temps\u001b[0;34m(start_date, end_date)\u001b[0m\n\u001b[1;32m     12\u001b[0m     \"\"\"\n\u001b[1;32m     13\u001b[0m \u001b[0;34m\u001b[0m\u001b[0m\n\u001b[0;32m---> 14\u001b[0;31m     \u001b[0;32mreturn\u001b[0m \u001b[0msession\u001b[0m\u001b[0;34m.\u001b[0m\u001b[0mquery\u001b[0m\u001b[0;34m(\u001b[0m\u001b[0mfunc\u001b[0m\u001b[0;34m.\u001b[0m\u001b[0mmin\u001b[0m\u001b[0;34m(\u001b[0m\u001b[0mMeasurement\u001b[0m\u001b[0;34m.\u001b[0m\u001b[0mtobs\u001b[0m\u001b[0;34m)\u001b[0m\u001b[0;34m,\u001b[0m \u001b[0mfunc\u001b[0m\u001b[0;34m.\u001b[0m\u001b[0mavg\u001b[0m\u001b[0;34m(\u001b[0m\u001b[0mMeasurement\u001b[0m\u001b[0;34m.\u001b[0m\u001b[0mtobs\u001b[0m\u001b[0;34m)\u001b[0m\u001b[0;34m,\u001b[0m \u001b[0mfunc\u001b[0m\u001b[0;34m.\u001b[0m\u001b[0mmax\u001b[0m\u001b[0;34m(\u001b[0m\u001b[0mMeasurement\u001b[0m\u001b[0;34m.\u001b[0m\u001b[0mtobs\u001b[0m\u001b[0;34m)\u001b[0m\u001b[0;34m)\u001b[0m\u001b[0;34m.\u001b[0m\u001b[0;31m\\\u001b[0m\u001b[0;34m\u001b[0m\u001b[0;34m\u001b[0m\u001b[0m\n\u001b[0m\u001b[1;32m     15\u001b[0m         \u001b[0mfilter\u001b[0m\u001b[0;34m(\u001b[0m\u001b[0mMeasurement\u001b[0m\u001b[0;34m.\u001b[0m\u001b[0mdate\u001b[0m \u001b[0;34m>=\u001b[0m \u001b[0mstart_date\u001b[0m\u001b[0;34m)\u001b[0m\u001b[0;34m.\u001b[0m\u001b[0mfilter\u001b[0m\u001b[0;34m(\u001b[0m\u001b[0mMeasurement\u001b[0m\u001b[0;34m.\u001b[0m\u001b[0mdate\u001b[0m \u001b[0;34m<=\u001b[0m \u001b[0mend_date\u001b[0m\u001b[0;34m)\u001b[0m\u001b[0;34m.\u001b[0m\u001b[0mall\u001b[0m\u001b[0;34m(\u001b[0m\u001b[0;34m)\u001b[0m\u001b[0;34m\u001b[0m\u001b[0;34m\u001b[0m\u001b[0m\n\u001b[1;32m     16\u001b[0m \u001b[0;34m\u001b[0m\u001b[0m\n",
      "\u001b[0;31mNameError\u001b[0m: name 'session' is not defined"
     ]
    }
   ],
   "source": [
    "# This function called `calc_temps` will accept start date and end date in the format '%Y-%m-%d' \n",
    "# and return the minimum, average, and maximum temperatures for that range of dates\n",
    "def calc_temps(start_date, end_date):\n",
    "    \"\"\"TMIN, TAVG, and TMAX for a list of dates.\n",
    "    \n",
    "    Args:\n",
    "        start_date (string): A date string in the format %Y-%m-%d\n",
    "        end_date (string): A date string in the format %Y-%m-%d\n",
    "        \n",
    "    Returns:\n",
    "        TMIN, TAVE, and TMAX\n",
    "    \"\"\"\n",
    "    \n",
    "    return session.query(func.min(Measurement.tobs), func.avg(Measurement.tobs), func.max(Measurement.tobs)).\\\n",
    "        filter(Measurement.date >= start_date).filter(Measurement.date <= end_date).all()\n",
    "\n",
    "# function usage example\n",
    "print(calc_temps('2012-02-28', '2012-03-05'))"
   ]
  },
  {
   "cell_type": "code",
   "execution_count": null,
   "metadata": {},
   "outputs": [],
   "source": [
    "# Use your previous function `calc_temps` to calculate the tmin, tavg, and tmax \n",
    "# for your trip using the previous year's data for those same dates.\n"
   ]
  },
  {
   "cell_type": "code",
   "execution_count": null,
   "metadata": {},
   "outputs": [],
   "source": [
    "# Plot the results from your previous query as a bar chart. \n",
    "# Use \"Trip Avg Temp\" as your Title\n",
    "# Use the average temperature for the y value\n",
    "# Use the peak-to-peak (tmax-tmin) value as the y error bar (yerr)\n"
   ]
  },
  {
   "cell_type": "code",
   "execution_count": null,
   "metadata": {},
   "outputs": [],
   "source": [
    "# Calculate the total amount of rainfall per weather station for your trip dates using the previous year's matching dates.\n",
    "# Sort this in descending order by precipitation amount and list the station, name, latitude, longitude, and elevation\n",
    "\n"
   ]
  },
  {
   "cell_type": "code",
   "execution_count": null,
   "metadata": {},
   "outputs": [],
   "source": [
    "# Create a query that will calculate the daily normals \n",
    "# (i.e. the averages for tmin, tmax, and tavg for all historic data matching a specific month and day)\n",
    "\n",
    "def daily_normals(date):\n",
    "    \"\"\"Daily Normals.\n",
    "    \n",
    "    Args:\n",
    "        date (str): A date string in the format '%m-%d'\n",
    "        \n",
    "    Returns:\n",
    "        A list of tuples containing the daily normals, tmin, tavg, and tmax\n",
    "    \n",
    "    \"\"\"\n",
    "    \n",
    "    sel = [func.min(Measurement.tobs), func.avg(Measurement.tobs), func.max(Measurement.tobs)]\n",
    "    return session.query(*sel).filter(func.strftime(\"%m-%d\", Measurement.date) == date).all()\n",
    "    \n",
    "daily_normals(\"01-01\")"
   ]
  },
  {
   "cell_type": "code",
   "execution_count": null,
   "metadata": {},
   "outputs": [],
   "source": [
    "# calculate the daily normals for your trip\n",
    "# push each tuple of calculations into a list called `normals`\n",
    "\n",
    "# Set the start and end date of the trip\n",
    "\n",
    "# Use the start and end date to create a range of dates\n",
    "\n",
    "# Stip off the year and save a list of %m-%d strings\n",
    "\n",
    "# Loop through the list of %m-%d strings and calculate the normals for each date\n"
   ]
  },
  {
   "cell_type": "code",
   "execution_count": null,
   "metadata": {},
   "outputs": [],
   "source": [
    "# Load the previous query results into a Pandas DataFrame and add the `trip_dates` range as the `date` index\n"
   ]
  },
  {
   "cell_type": "code",
   "execution_count": null,
   "metadata": {},
   "outputs": [],
   "source": [
    "# Plot the daily normals as an area plot with `stacked=False`\n"
   ]
  }
 ],
 "metadata": {
  "kernel_info": {
   "name": "python3"
  },
  "kernelspec": {
   "display_name": "Python 3",
   "language": "python",
   "name": "python3"
  },
  "language_info": {
   "codemirror_mode": {
    "name": "ipython",
    "version": 3
   },
   "file_extension": ".py",
   "mimetype": "text/x-python",
   "name": "python",
   "nbconvert_exporter": "python",
   "pygments_lexer": "ipython3",
   "version": "3.8.3"
  },
  "nteract": {
   "version": "0.12.3"
  },
  "varInspector": {
   "cols": {
    "lenName": 16,
    "lenType": 16,
    "lenVar": 40
   },
   "kernels_config": {
    "python": {
     "delete_cmd_postfix": "",
     "delete_cmd_prefix": "del ",
     "library": "var_list.py",
     "varRefreshCmd": "print(var_dic_list())"
    },
    "r": {
     "delete_cmd_postfix": ") ",
     "delete_cmd_prefix": "rm(",
     "library": "var_list.r",
     "varRefreshCmd": "cat(var_dic_list()) "
    }
   },
   "types_to_exclude": [
    "module",
    "function",
    "builtin_function_or_method",
    "instance",
    "_Feature"
   ],
   "window_display": false
  }
 },
 "nbformat": 4,
 "nbformat_minor": 2
}
